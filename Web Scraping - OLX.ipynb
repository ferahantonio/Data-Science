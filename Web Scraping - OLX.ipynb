{
 "cells": [
  {
   "cell_type": "markdown",
   "metadata": {},
   "source": [
    "# <font color=green>1. Projeto Web Scraping"
   ]
  },
  {
   "cell_type": "markdown",
   "metadata": {},
   "source": [
    "# 1.1. Introdução"
   ]
  },
  {
   "cell_type": "markdown",
   "metadata": {},
   "source": [
    "## O objetivo deste projeto é coletar dados de um site (*Web Scraping*), de forma automática, utilizando comandos e bibliotecas em Python."
   ]
  },
  {
   "cell_type": "markdown",
   "metadata": {},
   "source": [
    "# 1.2. Ambiente e bibliotecas\n",
    "### Utilizaremos em nosso treinamento o navegador Google Chrome"
   ]
  },
  {
   "cell_type": "code",
   "execution_count": 1,
   "metadata": {
    "colab": {},
    "colab_type": "code",
    "id": "e9pXIMIWByAp"
   },
   "outputs": [
    {
     "name": "stdout",
     "output_type": "stream",
     "text": [
      "BeautifulSoup -> 4.9.3\n",
      "urllib -> 3.8\n",
      "pandas -> 1.1.3\n"
     ]
    }
   ],
   "source": [
    "import bs4\n",
    "import urllib.request as urllib_request\n",
    "from urllib.request import urlopen, urlretrieve\n",
    "import pandas\n",
    "import math\n",
    "\n",
    "print(\"BeautifulSoup ->\", bs4.__version__)\n",
    "print(\"urllib ->\", urllib_request.__version__)\n",
    "print(\"pandas ->\", pandas.__version__)"
   ]
  },
  {
   "cell_type": "markdown",
   "metadata": {},
   "source": [
    "# 1.3. Restrições"
   ]
  },
  {
   "cell_type": "markdown",
   "metadata": {},
   "source": [
    "## Para reduzir o tempo de processamento, filtramos no site somente veículos anunciados na Zona Sul da cidade do Rio de Janeiro. Iremos armazenar somente alguns atributos dos veículos pelo mesmo motivo. Porém o processo para obter todas as informações é o mesmo."
   ]
  },
  {
   "cell_type": "markdown",
   "metadata": {},
   "source": [
    "---\n",
    "# <font color=green>2. Código"
   ]
  },
  {
   "cell_type": "code",
   "execution_count": 132,
   "metadata": {},
   "outputs": [
    {
     "data": {
      "text/html": [
       "<div>\n",
       "<style scoped>\n",
       "    .dataframe tbody tr th:only-of-type {\n",
       "        vertical-align: middle;\n",
       "    }\n",
       "\n",
       "    .dataframe tbody tr th {\n",
       "        vertical-align: top;\n",
       "    }\n",
       "\n",
       "    .dataframe thead th {\n",
       "        text-align: right;\n",
       "    }\n",
       "</style>\n",
       "<table border=\"1\" class=\"dataframe\">\n",
       "  <thead>\n",
       "    <tr style=\"text-align: right;\">\n",
       "      <th></th>\n",
       "      <th>nome</th>\n",
       "      <th>valor</th>\n",
       "    </tr>\n",
       "  </thead>\n",
       "  <tbody>\n",
       "    <tr>\n",
       "      <th>0</th>\n",
       "      <td>Fiesta 2010 1.6 raridade.</td>\n",
       "      <td>R$ 19.500</td>\n",
       "    </tr>\n",
       "    <tr>\n",
       "      <th>1</th>\n",
       "      <td>Punto Essence 1.6 26000 km impecavel</td>\n",
       "      <td>R$ 46.890</td>\n",
       "    </tr>\n",
       "    <tr>\n",
       "      <th>2</th>\n",
       "      <td>HB 20 S 1.6 comfort</td>\n",
       "      <td>R$ 56.890</td>\n",
       "    </tr>\n",
       "    <tr>\n",
       "      <th>3</th>\n",
       "      <td>VENDO  VAN RENAULT MASTER</td>\n",
       "      <td></td>\n",
       "    </tr>\n",
       "    <tr>\n",
       "      <th>4</th>\n",
       "      <td>Gol G5 2013 Completo 59mil KM+Novo Do Brasil+T...</td>\n",
       "      <td>R$ 25.900</td>\n",
       "    </tr>\n",
       "    <tr>\n",
       "      <th>...</th>\n",
       "      <td>...</td>\n",
       "      <td>...</td>\n",
       "    </tr>\n",
       "    <tr>\n",
       "      <th>1393</th>\n",
       "      <td>Bmw x1 2.0 16v Turbo Activeflex Sdrive20i</td>\n",
       "      <td>R$ 82.500</td>\n",
       "    </tr>\n",
       "    <tr>\n",
       "      <th>1394</th>\n",
       "      <td>Kia Sportage 2.0 ex 4x2 16v</td>\n",
       "      <td>R$ 109.500</td>\n",
       "    </tr>\n",
       "    <tr>\n",
       "      <th>1395</th>\n",
       "      <td>Bmw 320i 2.0 16v Turbo m Sport</td>\n",
       "      <td>R$ 209.500</td>\n",
       "    </tr>\n",
       "    <tr>\n",
       "      <th>1396</th>\n",
       "      <td>Honda Civic 2.0 16vone Sport</td>\n",
       "      <td>R$ 84.500</td>\n",
       "    </tr>\n",
       "    <tr>\n",
       "      <th>1397</th>\n",
       "      <td>Bmw x6 3.0 4x4 35i Coupé 6 Cilindros 24v</td>\n",
       "      <td>R$ 169.500</td>\n",
       "    </tr>\n",
       "  </tbody>\n",
       "</table>\n",
       "<p>1398 rows × 2 columns</p>\n",
       "</div>"
      ],
      "text/plain": [
       "                                                   nome       valor\n",
       "0                             Fiesta 2010 1.6 raridade.   R$ 19.500\n",
       "1                  Punto Essence 1.6 26000 km impecavel   R$ 46.890\n",
       "2                                   HB 20 S 1.6 comfort   R$ 56.890\n",
       "3                             VENDO  VAN RENAULT MASTER            \n",
       "4     Gol G5 2013 Completo 59mil KM+Novo Do Brasil+T...   R$ 25.900\n",
       "...                                                 ...         ...\n",
       "1393          Bmw x1 2.0 16v Turbo Activeflex Sdrive20i   R$ 82.500\n",
       "1394                        Kia Sportage 2.0 ex 4x2 16v  R$ 109.500\n",
       "1395                     Bmw 320i 2.0 16v Turbo m Sport  R$ 209.500\n",
       "1396                       Honda Civic 2.0 16vone Sport   R$ 84.500\n",
       "1397           Bmw x6 3.0 4x4 35i Coupé 6 Cilindros 24v  R$ 169.500\n",
       "\n",
       "[1398 rows x 2 columns]"
      ]
     },
     "execution_count": 132,
     "metadata": {},
     "output_type": "execute_result"
    }
   ],
   "source": [
    "# Importando Bibliotecas\n",
    "from urllib.request import Request, urlopen\n",
    "from urllib.error import URLError, HTTPError\n",
    "from urllib.request import urlopen, urlretrieve\n",
    "from bs4 import BeautifulSoup\n",
    "import pandas as pd\n",
    "import math\n",
    "\n",
    "# Declarando variável cards\n",
    "cards = []\n",
    "\n",
    "## Obtendo o HTML\n",
    "## A url utilizada é a obtida após a aplicação dos filtros no site da OLX\n",
    "\n",
    "req = Request('https://rj.olx.com.br/rio-de-janeiro-e-regiao/zona-sul/autos-e-pecas/carros-vans-e-utilitarios',headers={'User-Agent': 'Mozilla/5.0'})\n",
    "webpage = urlopen(req).read()\n",
    "html = webpage.decode('utf-8')\n",
    "soup = BeautifulSoup(html, 'html.parser')\n",
    "\n",
    "#Obtendo o número total de páginas para iterar no site\n",
    "pages = int(soup.find('span', class_=\"sc-1mi5vq6-0 eDXljX sc-ifAKCX fhJlIo\").get_text().split()[-2].split('.')[0]+soup.find('span', class_=\"sc-1mi5vq6-0 eDXljX sc-ifAKCX fhJlIo\").get_text().split()[-2].split('.')[1])/int(soup.find('span', class_=\"sc-1mi5vq6-0 eDXljX sc-ifAKCX fhJlIo\").get_text().split()[2])\n",
    "pages = math.ceil(pages)\n",
    "\n",
    "## Iterando por todas as páginas do site\n",
    "for i in range(pages):\n",
    "    ## Obtendo o HTML\n",
    "    req = Request('https://rj.olx.com.br/rio-de-janeiro-e-regiao/zona-sul/autos-e-pecas/carros-vans-e-utilitarios?o='+str(i+1),headers={'User-Agent': 'Mozilla/5.0'})\n",
    "    webpage = urlopen(req).read()\n",
    "    html = webpage.decode('utf-8')\n",
    "    soup = BeautifulSoup(html, 'html.parser')\n",
    "\n",
    "    # Obtendo as TAGs de interesse\n",
    "    anuncios = soup.find('ul', {\"class\": \"sc-1fcmfeb-1 kntIvV\"}).findAll('div', {\"class\": \"fnmrjs-4 jflPgo\"})\n",
    "\n",
    "    # Coletando as informações dos CARDS\n",
    "    for anuncio in anuncios:\n",
    "        card = {}\n",
    "\n",
    "        # Nome\n",
    "        card['nome'] = anuncio.find('h2').get_text()\n",
    "        \n",
    "        # Valor\n",
    "        card['valor'] = anuncio.find('div', {\"class\": \"aoie8y-0\"}).find('span').get_text()\n",
    "        \n",
    "        #Adicionando resultado a lista cards\n",
    "        cards.append(card)\n",
    "        \n",
    "# Criando um DataFrame com os resultados\n",
    "dataset = pd.DataFrame(cards)\n",
    "dataset.to_csv('dataset2.csv', sep=';', index = False, encoding = 'utf-8-sig')\n",
    "dataset"
   ]
  },
  {
   "cell_type": "markdown",
   "metadata": {},
   "source": []
  }
 ],
 "metadata": {
  "colab": {
   "name": "Untitled12.ipynb",
   "provenance": [],
   "version": "0.3.2"
  },
  "kernelspec": {
   "display_name": "Python 3",
   "language": "python",
   "name": "python3"
  },
  "language_info": {
   "codemirror_mode": {
    "name": "ipython",
    "version": 3
   },
   "file_extension": ".py",
   "mimetype": "text/x-python",
   "name": "python",
   "nbconvert_exporter": "python",
   "pygments_lexer": "ipython3",
   "version": "3.8.5"
  }
 },
 "nbformat": 4,
 "nbformat_minor": 1
}
